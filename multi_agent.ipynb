{
 "cells": [
  {
   "cell_type": "code",
   "execution_count": null,
   "metadata": {},
   "outputs": [],
   "source": [
    "! conda activate seq"
   ]
  },
  {
   "cell_type": "code",
   "execution_count": null,
   "metadata": {},
   "outputs": [],
   "source": [
    "from datasets import load_dataset\n",
    "import outlines \n",
    "import torch\n",
    "import pandas as pd\n",
    "from typing import List\n",
    "from pydantic import BaseModel, constr\n",
    "from tqdm import tqdm\n",
    "\n",
    "dev_qa = pd.read_parquet(\"dev_qa.parquet\")\n",
    "train_qa = pd.read_parquet(\"train_qa.parquet\")\n",
    "\n",
    "list_one = dev_qa['dataset'].unique()\n",
    "list_two = train_qa['dataset'].unique()\n",
    "\n",
    "# merge the two lists\n",
    "all_ds_ids = list(set(list_one).union(set(list_two)))\n",
    "print(all_ds_ids)\n",
    "# df = pd.read_parquet(f\"data/{ds_id}.parquet\")"
   ]
  },
  {
   "cell_type": "code",
   "execution_count": null,
   "metadata": {},
   "outputs": [],
   "source": []
  }
 ],
 "metadata": {
  "language_info": {
   "name": "python"
  }
 },
 "nbformat": 4,
 "nbformat_minor": 2
}
