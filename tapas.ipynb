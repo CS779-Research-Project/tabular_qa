{
 "cells": [
  {
   "cell_type": "code",
   "execution_count": 2,
   "metadata": {},
   "outputs": [
    {
     "name": "stdout",
     "output_type": "stream",
     "text": [
      "                                            question answer     type  \\\n",
      "0  Is the most favorited author mainly communicat...   True  boolean   \n",
      "1  Does the author with the longest name post mai...   True  boolean   \n",
      "2  Is there an author who received no retweets fo...   True  boolean   \n",
      "3  Are there any posts that do not contain any li...   True  boolean   \n",
      "4        How many unique authors are in the dataset?   3765   number   \n",
      "\n",
      "                  columns_used                   column_types sample_answer  \\\n",
      "0        ['favorites', 'lang']       ['category', 'category']          True   \n",
      "1      ['author_name', 'type']       ['category', 'category']         False   \n",
      "2  ['author_name', 'retweets']  ['category', 'number[uint8]']          True   \n",
      "3                    ['links']                  ['list[url]']          True   \n",
      "4              ['author_name']                   ['category']            20   \n",
      "\n",
      "   dataset  \n",
      "0  050_ING  \n",
      "1  050_ING  \n",
      "2  050_ING  \n",
      "3  050_ING  \n",
      "4  050_ING  \n"
     ]
    }
   ],
   "source": [
    "import pandas as pd\n",
    "\n",
    "# Load the dev_qa.parquet file\n",
    "file_path = \"/data/shlok/dev_qa.parquet\"  # Update this with the actual path to the file\n",
    "df_dev_qa = pd.read_parquet(file_path)\n",
    "\n",
    "# Display the first few rows of the dataset\n",
    "print(df_dev_qa.head())\n"
   ]
  },
  {
   "cell_type": "code",
   "execution_count": 3,
   "metadata": {},
   "outputs": [
    {
     "name": "stdout",
     "output_type": "stream",
     "text": [
      "<class 'pandas.core.frame.DataFrame'>\n",
      "RangeIndex: 320 entries, 0 to 319\n",
      "Data columns (total 7 columns):\n",
      " #   Column         Non-Null Count  Dtype \n",
      "---  ------         --------------  ----- \n",
      " 0   question       320 non-null    object\n",
      " 1   answer         320 non-null    object\n",
      " 2   type           320 non-null    object\n",
      " 3   columns_used   320 non-null    object\n",
      " 4   column_types   320 non-null    object\n",
      " 5   sample_answer  317 non-null    object\n",
      " 6   dataset        320 non-null    object\n",
      "dtypes: object(7)\n",
      "memory usage: 17.6+ KB\n",
      "None\n",
      "                                            question answer     type  \\\n",
      "0  Is the most favorited author mainly communicat...   True  boolean   \n",
      "1  Does the author with the longest name post mai...   True  boolean   \n",
      "2  Is there an author who received no retweets fo...   True  boolean   \n",
      "3  Are there any posts that do not contain any li...   True  boolean   \n",
      "4        How many unique authors are in the dataset?   3765   number   \n",
      "\n",
      "                  columns_used                   column_types sample_answer  \\\n",
      "0        ['favorites', 'lang']       ['category', 'category']          True   \n",
      "1      ['author_name', 'type']       ['category', 'category']         False   \n",
      "2  ['author_name', 'retweets']  ['category', 'number[uint8]']          True   \n",
      "3                    ['links']                  ['list[url]']          True   \n",
      "4              ['author_name']                   ['category']            20   \n",
      "\n",
      "   dataset  \n",
      "0  050_ING  \n",
      "1  050_ING  \n",
      "2  050_ING  \n",
      "3  050_ING  \n",
      "4  050_ING  \n"
     ]
    }
   ],
   "source": [
    "# Check basic information about the dataset\n",
    "print(df_dev_qa.info())\n",
    "\n",
    "# Display the first few rows to see the structure\n",
    "print(df_dev_qa.head())\n"
   ]
  },
  {
   "cell_type": "code",
   "execution_count": 4,
   "metadata": {},
   "outputs": [
    {
     "name": "stdout",
     "output_type": "stream",
     "text": [
      "['boolean' 'number' 'category' 'list[category]' 'list[number]' ' category']\n",
      "['050_ING' '051_Pokemon' '052_Professional' '053_Patents' '054_Joe'\n",
      " '055_German' '056_Emoji' '057_Spain' '058_US' '059_Second' '060_Bakery'\n",
      " '061_Disneyland' '062_Trump' '063_Influencers' '064_Clustering' '065_RFM']\n",
      "[\"['favorites', 'lang']\" \"['author_name', 'type']\"\n",
      " \"['author_name', 'retweets']\" \"['links']\" \"['author_name']\" \"['text']\"\n",
      " \"['retweets']\" \"['mention_ids']\" \"['lang', 'favorites']\"\n",
      " \"['author_name', 'text']\" \"['type']\" \"['retweets', 'favorites']\"\n",
      " \"['name']\" \"['total']\" \"['generation', 'legendary']\" \"['speed']\"\n",
      " \"['type1']\" \"['generation']\" \"['attack']\" \"['defense', 'type1']\"\n",
      " \"['speed', 'name']\" \"['legendary', 'type2']\"\n",
      " \"['sp_attack', 'name', 'type1']\" \"['total', 'name']\" \"['hp', 'name']\"\n",
      " \"['generation', 'attack', 'name']\" \"['sp_defense']\"\n",
      " \"['legendary', 'defense']\" \"['generation', 'speed']\"\n",
      " \"['legendary', 'total']\" \"['Extraversion', 'Agreeableness']\"\n",
      " \"['Profession', 'Openness', 'Conscientousness']\"\n",
      " \"['Profession', 'Emotional_Range', 'Conversation']\"\n",
      " \"['Openness to Change', 'Hedonism']\" \"['Self-enhancement']\"\n",
      " \"['Emotional_Range']\" \"['Profession', 'Extraversion', 'n']\"\n",
      " \"['Self-transcendence']\" \"['Profession', 'Conscientousness']\"\n",
      " \"['Profession', 'Hedonism']\" \"['Profession', 'Emotional_Range']\"\n",
      " \"['Profession', 'n']\" \"['Profession', 'Openness']\"\n",
      " \"['Profession', 'Agreeableness']\" \"['Profession', 'Conversation']\"\n",
      " \"['Profession', 'Self-enhancement']\" \"['Openness to Change']\"\n",
      " \"['Extraversion']\" \"['title']\" \"['organization']\" \"['abstract']\"\n",
      " \"['num_claims']\" \"['organization', 'num_claims']\" \"['kind']\" \"['lang']\"\n",
      " \"['graphext_cluster']\" \"['id', 'num_claims']\" \"['id', 'target']\"\n",
      " \"['id', 'date']\"\n",
      " \"['author_id<gx:category>', 'user_followers_count<gx:number>', 'user_verified<gx:boolean>']\"\n",
      " \"['author_id<gx:category>', 'user_favourites_count<gx:number>', 'retweets<gx:number>']\"\n",
      " \"['author_id<gx:category>', 'mention_names<gx:list[category]>', 'retweets<gx:number>']\"\n",
      " \"['author_id<gx:category>', 'retweets<gx:number>', 'replies<gx:number>']\"\n",
      " \"['user_followers_count<gx:number>']\"\n",
      " \"['user_favourites_count<gx:number>']\" \"['retweets<gx:number>']\"\n",
      " \"['mention_names<gx:list[category]>']\"\n",
      " \"['author_name<gx:category>', 'user_followers_count<gx:number>']\"\n",
      " \"['author_name<gx:category>', 'user_favourites_count<gx:number>']\"\n",
      " \"['author_name<gx:category>', 'mention_names<gx:list[category]>']\"\n",
      " \"['author_name<gx:category>', 'retweets<gx:number>']\"\n",
      " \"['Loan Amount', 'Loan Duration - Months']\"\n",
      " \"['Number of Existing Loans', 'Loan Amount']\"\n",
      " \"['Loan Duration - Months', 'Number of Existing Loans']\"\n",
      " \"['Age', 'Loan Amount']\" \"['Loan Amount']\" \"['Number of Existing Loans']\"\n",
      " \"['Loan Duration - Months']\" \"['Age']\" \"['Purpose of Loan']\" \"['Job']\"\n",
      " \"['Credit History']\" \"['Savings Account']\" \"['Loan Amount', 'Job']\"\n",
      " \"['Loan Duration - Months', 'Job']\" \"['Number of Existing Loans', 'Job']\"\n",
      " \"['Age', 'Job']\" \"['Calories (kcal)']\" \"['Total Sugar (g)']\"\n",
      " \"['Total Fat (g)']\" \"['Protein (g)']\" \"['Sodium (g)']\"\n",
      " \"['Calories (kcal)', 'name']\" \"['Total Sugar (g)', 'name']\"\n",
      " \"['Total Fat (g)', 'name']\" \"['Protein (g)', 'name']\" \"['edu']\"\n",
      " \"['polInterest']\" \"['Vote Intention']\"\n",
      " \"['User self-placement on Left-Right economic values axis']\"\n",
      " \"['User self- placement on Progressive-Conservative economic values axis']\"\n",
      " \"['It should be more difficult for companies to lay off workers']\"\n",
      " \"['Age', 'gender']\" \"['voteReason']\" \"['partyId']\"\n",
      " \"['Constitutional organisation of the country (More Descentralization)']\"\n",
      " \"['Are you registered to vote?']\"\n",
      " \"['Did you vote in the 2016 Presidential election? (Four years ago)', 'How likely are you to vote in the forthcoming US Presidential election? Early Voting Open']\"\n",
      " \"['Who did you vote for in the 2016 Presidential election? (Four years ago)', 'Who are you most likely to vote for on election day?']\"\n",
      " \"['Who are you most likely to vote for on election day?']\"\n",
      " \"['What is the highest degree or level of school you have *completed* ?']\"\n",
      " \"['Division']\" \"['How old are you?']\" \"['State']\"\n",
      " \"['Which of these best describes the kind of work you do?']\"\n",
      " \"['Which of the following best describes your ethnic heritage?']\"\n",
      " \"['County FIPS']\" \"['Weight']\" \"['NCHS Urban/rural']\" \"['likelihood']\"\n",
      " \"['model']\" \"['dealer']\" \"['version']\" \"['shift']\" \"['photos']\"\n",
      " \"['price']\" \"['year']\" \"['dealer', 'price']\" \"['make']\" \"['fuel']\"\n",
      " \"['province']\" \"['color']\" \"['kms']\" \"['power']\" '[Transaction]'\n",
      " '[period_day]' '[Item, weekday_weekend]' '[period_day, weekday_weekend]'\n",
      " '[Item]' '[date_time]' '[Transaction, period_day]'\n",
      " '[period_day, Transaction]' '[Item, period_day]' '[Transaction, Item]'\n",
      " \"['Reviewer_Location', 'Rating']\" \"['Branch']\" \"['Rating']\"\n",
      " \"['Reviewer_Location']\" \"['Branch', 'Rating']\" \"['Review_ID']\"\n",
      " \"['Year_Month']\" \"['Year_Month', 'Rating']\" \"['Review_ID', 'Rating']\"\n",
      " \"['favorites']\" \"['date']\" \"['text', 'favorites']\" \"['lang', 'retweets']\"\n",
      " \"['author_handler']\" \"['mention_names']\" \"['id', 'retweets']\"\n",
      " \"['id', 'favorites']\" \"['is_organization']\" \"['pic']\" \"['weight']\"\n",
      " \"['community']\" \"['page_rank_norm']\" \"['name', 'page_rank_norm']\"\n",
      " \"['pic', 'weight']\" \"['name', 'y']\" \"['name', 'weight']\" \"['name', 'x']\"\n",
      " \"['id', 'weight']\" \"['id', 'page_rank_norm']\" \"['feathers']\"\n",
      " \"['venomous']\" \"['breathes']\" \"['domestic']\" \"['class_type']\" \"['legs']\"\n",
      " \"['animal_name', 'legs']\" \"['class_type', 'legs']\"\n",
      " \"['animal_name', 'venomous']\" \"['Quantity']\" \"['UnitPrice']\"\n",
      " \"['CustomerID']\" \"['Country']\" \"['StockCode']\"\n",
      " \"['Description', 'UnitPrice']\" \"['Description', 'Quantity']\"\n",
      " \"['Country', 'CustomerID']\" \"['InvoiceNo', 'Quantity']\" \"['Description']\"]\n"
     ]
    }
   ],
   "source": [
    "# Check unique values in the 'type' column to see the types of questions/answers\n",
    "print(df_dev_qa['type'].unique())\n",
    "\n",
    "# Check unique datasets to see how many datasets are represented in this file\n",
    "print(df_dev_qa['dataset'].unique())\n",
    "\n",
    "# Check the unique columns used across all questions\n",
    "print(df_dev_qa['columns_used'].unique())\n"
   ]
  },
  {
   "cell_type": "code",
   "execution_count": 5,
   "metadata": {},
   "outputs": [
    {
     "name": "stdout",
     "output_type": "stream",
     "text": [
      "Question Type Counts:\n",
      "type\n",
      " category          1\n",
      "boolean           64\n",
      "category          63\n",
      "list[category]    64\n",
      "list[number]      64\n",
      "number            64\n",
      "dtype: int64\n"
     ]
    }
   ],
   "source": [
    "# Group questions by their type and count them\n",
    "question_type_counts = df_dev_qa.groupby('type').size()\n",
    "\n",
    "print(\"Question Type Counts:\")\n",
    "print(question_type_counts)\n"
   ]
  },
  {
   "cell_type": "code",
   "execution_count": 6,
   "metadata": {},
   "outputs": [
    {
     "name": "stdout",
     "output_type": "stream",
     "text": [
      "                                            question answer     type  \\\n",
      "0  Is the most favorited author mainly communicat...   True  boolean   \n",
      "1  Does the author with the longest name post mai...   True  boolean   \n",
      "2  Is there an author who received no retweets fo...   True  boolean   \n",
      "3  Are there any posts that do not contain any li...   True  boolean   \n",
      "4        How many unique authors are in the dataset?   3765   number   \n",
      "\n",
      "                  columns_used                   column_types sample_answer  \\\n",
      "0        ['favorites', 'lang']       ['category', 'category']          True   \n",
      "1      ['author_name', 'type']       ['category', 'category']         False   \n",
      "2  ['author_name', 'retweets']  ['category', 'number[uint8]']          True   \n",
      "3                    ['links']                  ['list[url]']          True   \n",
      "4              ['author_name']                   ['category']            20   \n",
      "\n",
      "   dataset  \n",
      "0  050_ING  \n",
      "1  050_ING  \n",
      "2  050_ING  \n",
      "3  050_ING  \n",
      "4  050_ING  \n"
     ]
    }
   ],
   "source": [
    "# Filter questions for the dataset '050_ING'\n",
    "df_filtered = df_dev_qa[df_dev_qa['dataset'] == '050_ING']\n",
    "\n",
    "# Display filtered data\n",
    "print(df_filtered.head())\n"
   ]
  },
  {
   "cell_type": "code",
   "execution_count": null,
   "metadata": {},
   "outputs": [],
   "source": []
  }
 ],
 "metadata": {
  "kernelspec": {
   "display_name": "shlokenv",
   "language": "python",
   "name": "python3"
  },
  "language_info": {
   "codemirror_mode": {
    "name": "ipython",
    "version": 3
   },
   "file_extension": ".py",
   "mimetype": "text/x-python",
   "name": "python",
   "nbconvert_exporter": "python",
   "pygments_lexer": "ipython3",
   "version": "3.8.10"
  }
 },
 "nbformat": 4,
 "nbformat_minor": 2
}
